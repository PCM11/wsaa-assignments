{
 "cells": [
  {
   "cell_type": "markdown",
   "metadata": {},
   "source": [
    "Assignment 4 - Github API\n",
    "\n",
    "Ref: # Web Services and Applications using packages - Lab 5.03\n",
    "\n",
    "      # https://pygithub.readthedocs.io/en/stable/introduction.html\n",
    "\n",
    "Author: Phumi"
   ]
  },
  {
   "cell_type": "code",
   "execution_count": null,
   "metadata": {},
   "outputs": [],
   "source": [
    "#Libraries\n",
    "\n",
    "import requests\n",
    "from github import Github \n",
    "from config import config as cfg "
   ]
  },
  {
   "cell_type": "markdown",
   "metadata": {},
   "source": [
    "https://pygithub.readthedocs.io/en/stable/introduction.html"
   ]
  },
  {
   "cell_type": "code",
   "execution_count": null,
   "metadata": {},
   "outputs": [
    {
     "name": "stdout",
     "output_type": "stream",
     "text": [
      "applied-statistics\n",
      "computer-infrastructure\n",
      "mywork\n",
      "pands-mywork\n",
      "pands-project\n",
      "pands-weekly-tasks\n",
      "pfda-assignments\n",
      "pfda-mywork\n",
      "pfda-project\n",
      "wsaa-assignments\n",
      "wsaa-mywork\n",
      "wsaa-project\n"
     ]
    }
   ],
   "source": [
    "# Read key from config file.\n",
    "apikey = cfg[\"github_key\"] \n",
    "\n",
    "g = Github(apikey) \n",
    "\n",
    "# Test pyGithub by printing the list of repositories.\n",
    "for repo in g.get_user().get_repos():\n",
    "    print(repo.name)"
   ]
  },
  {
   "cell_type": "code",
   "execution_count": 19,
   "metadata": {},
   "outputs": [
    {
     "name": "stdout",
     "output_type": "stream",
     "text": [
      "https://github.com/PCM11/wsaa-assignments.git\n"
     ]
    }
   ],
   "source": [
    "# Clone URL of a repository\n",
    "repo = g.get_repo(\"PCM11/wsaa-assignments\") \n",
    "print(repo.clone_url)\n"
   ]
  },
  {
   "cell_type": "code",
   "execution_count": 21,
   "metadata": {},
   "outputs": [],
   "source": [
    "# Download file.txt URL from repository\n",
    "file_info = repo.get_contents(\"file.txt\") \n",
    "url_of_file = file_info.download_url\n",
    "\n",
    "#print (url_of_file)"
   ]
  },
  {
   "cell_type": "code",
   "execution_count": null,
   "metadata": {},
   "outputs": [],
   "source": [
    "# Make http request to get the file contents\n",
    "response = requests.get(url_of_file) \n",
    "content_of_file = response.text \n",
    "\n",
    "#print (content_of_file)"
   ]
  },
  {
   "cell_type": "code",
   "execution_count": null,
   "metadata": {},
   "outputs": [
    {
     "name": "stdout",
     "output_type": "stream",
     "text": [
      "Phumi\n"
     ]
    }
   ],
   "source": [
    "# Replace Andrew with Phumi\n",
    "new_contents = content_of_file.replace(\"Andrew\", \"Phumi\")\n",
    "print (new_contents)"
   ]
  },
  {
   "cell_type": "code",
   "execution_count": null,
   "metadata": {},
   "outputs": [
    {
     "name": "stdout",
     "output_type": "stream",
     "text": [
      "{'commit': Commit(sha=\"16a3984edb737d4145cf051a79ec706727f68731\"), 'content': ContentFile(path=\"file.txt\")}\n"
     ]
    }
   ],
   "source": [
    "# Update file content on and push to Github\n",
    "gitHubResponse = repo.update_file(file_info.path,\"File updated\", new_contents, file_info.sha) \n",
    "print (gitHubResponse)\n"
   ]
  }
 ],
 "metadata": {
  "kernelspec": {
   "display_name": "base",
   "language": "python",
   "name": "python3"
  },
  "language_info": {
   "codemirror_mode": {
    "name": "ipython",
    "version": 3
   },
   "file_extension": ".py",
   "mimetype": "text/x-python",
   "name": "python",
   "nbconvert_exporter": "python",
   "pygments_lexer": "ipython3",
   "version": "3.12.4"
  }
 },
 "nbformat": 4,
 "nbformat_minor": 2
}
