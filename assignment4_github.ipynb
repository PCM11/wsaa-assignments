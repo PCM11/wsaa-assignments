{
 "cells": [
  {
   "cell_type": "markdown",
   "metadata": {},
   "source": [
    "Write a program in python that will read a file from a repository, \n",
    "\n",
    "The program should then replace all the instances of the text \"Andrew\" with your name. \n",
    "\n",
    "The program should then commit those changes and push the file back to the repository.\n",
    "\n",
    "Push the program as assignment04-github.py to assignments repository."
   ]
  },
  {
   "cell_type": "code",
   "execution_count": 8,
   "metadata": {},
   "outputs": [],
   "source": [
    "import requests\n",
    "from github import Github \n",
    "from config import config as cfg "
   ]
  },
  {
   "cell_type": "code",
   "execution_count": null,
   "metadata": {},
   "outputs": [
    {
     "name": "stdout",
     "output_type": "stream",
     "text": [
      "applied-statistics\n",
      "aprivateone\n",
      "computer-infrastructure\n",
      "mywork\n",
      "pands-mywork\n",
      "pands-project\n",
      "pands-weekly-tasks\n",
      "pfda-assignments\n",
      "pfda-mywork\n",
      "pfda-project\n",
      "wsaa-assignments\n",
      "wsaa-mywork\n",
      "wsaa-project\n"
     ]
    }
   ],
   "source": [
    "apikey = cfg[\"github_key\"] \n",
    "\n",
    "g = Github(apikey) \n",
    "\n",
    "# Testing pyGithub\n",
    "for repo in g.get_user().get_repos():\n",
    "    print(repo.name)"
   ]
  },
  {
   "cell_type": "code",
   "execution_count": 10,
   "metadata": {},
   "outputs": [
    {
     "name": "stdout",
     "output_type": "stream",
     "text": [
      "https://github.com/PCM11/wsaa-assignments.git\n"
     ]
    }
   ],
   "source": [
    "# Clone URL of a repository\n",
    "repo = g.get_repo(\"PCM11/wsaa-assignments\") \n",
    "print(repo.clone_url)\n"
   ]
  },
  {
   "cell_type": "code",
   "execution_count": 12,
   "metadata": {},
   "outputs": [],
   "source": [
    "# Downloading file.txt URL from repository\n",
    "#file_info = repo.get_contents(\"file.txt\") \n",
    "#url_of_file = file_info.download_url"
   ]
  }
 ],
 "metadata": {
  "kernelspec": {
   "display_name": "base",
   "language": "python",
   "name": "python3"
  },
  "language_info": {
   "codemirror_mode": {
    "name": "ipython",
    "version": 3
   },
   "file_extension": ".py",
   "mimetype": "text/x-python",
   "name": "python",
   "nbconvert_exporter": "python",
   "pygments_lexer": "ipython3",
   "version": "3.12.4"
  }
 },
 "nbformat": 4,
 "nbformat_minor": 2
}
