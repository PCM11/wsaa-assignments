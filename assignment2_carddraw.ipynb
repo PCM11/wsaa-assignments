{
 "cells": [
  {
   "cell_type": "markdown",
   "metadata": {},
   "source": [
    "### Deck of cards API\n",
    "\n",
    "This is an API that simulates dealing a deck of cards."
   ]
  },
  {
   "cell_type": "code",
   "execution_count": 40,
   "metadata": {},
   "outputs": [],
   "source": [
    "# libraries\n",
    "import requests"
   ]
  },
  {
   "cell_type": "code",
   "execution_count": 41,
   "metadata": {},
   "outputs": [
    {
     "data": {
      "text/plain": [
       "{'success': True, 'deck_id': 't4f2x0zev8gm', 'remaining': 52, 'shuffled': True}"
      ]
     },
     "execution_count": 41,
     "metadata": {},
     "output_type": "execute_result"
    }
   ],
   "source": [
    "\n",
    "# Create a new shuffled the deck\n",
    "shuffle_url = \"https://deckofcardsapi.com/api/deck/new/shuffle/?deck_count=1\"\n",
    "response = requests.get(shuffle_url)\n",
    "deck = response.json()\n",
    "deck"
   ]
  },
  {
   "cell_type": "code",
   "execution_count": 42,
   "metadata": {},
   "outputs": [
    {
     "data": {
      "text/plain": [
       "'t4f2x0zev8gm'"
      ]
     },
     "execution_count": 42,
     "metadata": {},
     "output_type": "execute_result"
    }
   ],
   "source": [
    "# Extract the deck_id\n",
    "deck_id = deck[\"deck_id\"]\n",
    "deck_id"
   ]
  },
  {
   "cell_type": "code",
   "execution_count": 43,
   "metadata": {},
   "outputs": [],
   "source": [
    "# Draw five cards from the shuffled deck\n",
    "draw_url = f\"https://deckofcardsapi.com/api/deck/{deck_id}/draw/?count=5\"\n",
    "response = requests.get(draw_url)\n",
    "cards = response.json()[\"cards\"]"
   ]
  },
  {
   "cell_type": "code",
   "execution_count": 44,
   "metadata": {},
   "outputs": [
    {
     "name": "stdout",
     "output_type": "stream",
     "text": [
      "ACE of HEARTS\n",
      "2 of HEARTS\n",
      "QUEEN of SPADES\n",
      "3 of SPADES\n",
      "9 of CLUBS\n"
     ]
    }
   ],
   "source": [
    "# Value and suit of five cards\n",
    "for card in cards:\n",
    "    print(f\"{card['value']} of {card['suit']}\")\n"
   ]
  },
  {
   "cell_type": "code",
   "execution_count": 45,
   "metadata": {},
   "outputs": [],
   "source": [
    "# Function to convert face cards to numerical values for checking straights\n",
    "\n",
    "def get_card_value(card):\n",
    "    value_map = {\"ACE\": 1, \"JACK\": 11, \"QUEEN\": 12, \"KING\": 13}\n",
    "    return int(value_map.get(card.upper(), card))\n"
   ]
  },
  {
   "cell_type": "code",
   "execution_count": 46,
   "metadata": {},
   "outputs": [],
   "source": [
    "# Store card values and suits\n",
    "\n",
    "values = [card[\"value\"] for card in cards]\n",
    "suits = [card[\"suit\"] for card in cards]\n",
    "numerical_values = sorted([get_card_value(card[\"value\"]) for card in cards])\n"
   ]
  },
  {
   "cell_type": "code",
   "execution_count": 47,
   "metadata": {},
   "outputs": [],
   "source": [
    " # Check for pairs, triples, and flushes\n",
    "\n",
    "value_counts = {value: values.count(value) for value in set(values)}\n",
    "suit_counts = {suit: suits.count(suit) for suit in set(suits)}\n"
   ]
  },
  {
   "cell_type": "code",
   "execution_count": 48,
   "metadata": {},
   "outputs": [],
   "source": [
    "# Detecting hand types\n",
    "\n",
    "pair = any(count == 2 for count in value_counts.values())\n",
    "triple = any(count == 3 for count in value_counts.values())\n",
    "flush = any(count == 5 for count in suit_counts.values())\n",
    "straight = numerical_values == list(range(min(numerical_values), min(numerical_values) + 5))\n"
   ]
  },
  {
   "cell_type": "code",
   "execution_count": 49,
   "metadata": {},
   "outputs": [
    {
     "name": "stdout",
     "output_type": "stream",
     "text": [
      "Better luck next time!\n"
     ]
    }
   ],
   "source": [
    "# Congratulate the user based on hand type\n",
    "\n",
    "if flush:\n",
    "    print(\"🎉 Congratulations! You have a Flush! (All cards of the same suit)\")\n",
    "elif straight:\n",
    "    print(\"🎉 Congratulations! You have a Straight! (Five consecutive values)\")\n",
    "elif triple:\n",
    "    print(\"🎉 Congratulations! You have a Triple! (Three of a kind)\")\n",
    "elif pair:\n",
    "    print(\"🎉 Congratulations! You have a Pair! (Two of a kind)\")\n",
    "else:\n",
    "    print(\"Better luck next time!\")"
   ]
  }
 ],
 "metadata": {
  "kernelspec": {
   "display_name": "base",
   "language": "python",
   "name": "python3"
  },
  "language_info": {
   "codemirror_mode": {
    "name": "ipython",
    "version": 3
   },
   "file_extension": ".py",
   "mimetype": "text/x-python",
   "name": "python",
   "nbconvert_exporter": "python",
   "pygments_lexer": "ipython3",
   "version": "3.12.4"
  }
 },
 "nbformat": 4,
 "nbformat_minor": 2
}
