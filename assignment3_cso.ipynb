{
 "cells": [
  {
   "cell_type": "markdown",
   "metadata": {},
   "source": [
    "### CSO json"
   ]
  },
  {
   "cell_type": "markdown",
   "metadata": {},
   "source": [
    "This a program that retrieves the dataset for the \"exchequer account (historical series)\" from the CSO, and stores it into a file called \"cso.json\"."
   ]
  },
  {
   "cell_type": "code",
   "execution_count": 1,
   "metadata": {},
   "outputs": [],
   "source": [
    "# Libraries\n",
    "import requests\n",
    "import json"
   ]
  },
  {
   "cell_type": "code",
   "execution_count": 2,
   "metadata": {},
   "outputs": [
    {
     "name": "stdout",
     "output_type": "stream",
     "text": [
      "Data saved to cso.json\n"
     ]
    }
   ],
   "source": [
    "# Define url of the dataset\n",
    "url = \"https://ws.cso.ie/public/api.restful/PxStat.Data.Cube_API.ReadDataset/FIQ02/JSON-stat/2.0/en\"\n",
    "\n",
    "# Fetch dataset\n",
    "response = requests.get(url)\n",
    "\n",
    "# Parse the JSON response\n",
    "data = response.json()\n",
    "\n",
    "# Save file if request is successful\n",
    "if response.status_code == 200:\n",
    "    with open(\"cso.json\", \"w\") as file:\n",
    "        json.dump(data, file)\n",
    "\n",
    "    print(\"Data saved to cso.json\")\n",
    "else: \n",
    "    print(f\"Failed to retrieve data. Status code: {response.status_code}\")\n",
    "\n"
   ]
  }
 ],
 "metadata": {
  "kernelspec": {
   "display_name": "base",
   "language": "python",
   "name": "python3"
  },
  "language_info": {
   "codemirror_mode": {
    "name": "ipython",
    "version": 3
   },
   "file_extension": ".py",
   "mimetype": "text/x-python",
   "name": "python",
   "nbconvert_exporter": "python",
   "pygments_lexer": "ipython3",
   "version": "3.12.4"
  }
 },
 "nbformat": 4,
 "nbformat_minor": 2
}
